{
 "cells": [
  {
   "cell_type": "code",
   "execution_count": 1,
   "id": "e8c97d89-0316-445e-8a90-e199fee1f927",
   "metadata": {},
   "outputs": [],
   "source": [
    "import pandas as pd\n",
    "from sklearn.feature_extraction.text import TfidfVectorizer"
   ]
  },
  {
   "cell_type": "code",
   "execution_count": 2,
   "id": "34e8561d-4663-4816-9e48-405f49c4e2b9",
   "metadata": {},
   "outputs": [
    {
     "data": {
      "text/html": [
       "<div>\n",
       "<style scoped>\n",
       "    .dataframe tbody tr th:only-of-type {\n",
       "        vertical-align: middle;\n",
       "    }\n",
       "\n",
       "    .dataframe tbody tr th {\n",
       "        vertical-align: top;\n",
       "    }\n",
       "\n",
       "    .dataframe thead th {\n",
       "        text-align: right;\n",
       "    }\n",
       "</style>\n",
       "<table border=\"1\" class=\"dataframe\">\n",
       "  <thead>\n",
       "    <tr style=\"text-align: right;\">\n",
       "      <th></th>\n",
       "      <th>ID</th>\n",
       "      <th>tconst</th>\n",
       "      <th>primaryTitle</th>\n",
       "      <th>startYear</th>\n",
       "      <th>rank</th>\n",
       "      <th>averageRating</th>\n",
       "      <th>numVotes</th>\n",
       "      <th>runtimeMinutes</th>\n",
       "      <th>directors</th>\n",
       "      <th>writers</th>\n",
       "      <th>genres</th>\n",
       "      <th>IMDbLink</th>\n",
       "      <th>Title_IMDb_Link</th>\n",
       "    </tr>\n",
       "  </thead>\n",
       "  <tbody>\n",
       "    <tr>\n",
       "      <th>0</th>\n",
       "      <td>0</td>\n",
       "      <td>tt0111161</td>\n",
       "      <td>The Shawshank Redemption</td>\n",
       "      <td>1994</td>\n",
       "      <td>1</td>\n",
       "      <td>9.3</td>\n",
       "      <td>3090318</td>\n",
       "      <td>142</td>\n",
       "      <td>Frank Darabont</td>\n",
       "      <td>Stephen King, Frank Darabont</td>\n",
       "      <td>Drama</td>\n",
       "      <td>https://www.imdb.com/title/tt0111161</td>\n",
       "      <td>&lt;a href=\"https://www.imdb.com/title/tt0111161\"...</td>\n",
       "    </tr>\n",
       "    <tr>\n",
       "      <th>1</th>\n",
       "      <td>1</td>\n",
       "      <td>tt0068646</td>\n",
       "      <td>The Godfather</td>\n",
       "      <td>1972</td>\n",
       "      <td>2</td>\n",
       "      <td>9.2</td>\n",
       "      <td>2154590</td>\n",
       "      <td>175</td>\n",
       "      <td>Francis Ford Coppola</td>\n",
       "      <td>Mario Puzo, Francis Ford Coppola</td>\n",
       "      <td>Crime, Drama</td>\n",
       "      <td>https://www.imdb.com/title/tt0068646</td>\n",
       "      <td>&lt;a href=\"https://www.imdb.com/title/tt0068646\"...</td>\n",
       "    </tr>\n",
       "    <tr>\n",
       "      <th>2</th>\n",
       "      <td>2</td>\n",
       "      <td>tt0468569</td>\n",
       "      <td>The Dark Knight</td>\n",
       "      <td>2008</td>\n",
       "      <td>3</td>\n",
       "      <td>9.1</td>\n",
       "      <td>3065674</td>\n",
       "      <td>152</td>\n",
       "      <td>Christopher Nolan</td>\n",
       "      <td>Jonathan Nolan, Christopher Nolan, David S. Go...</td>\n",
       "      <td>Action, Crime, Drama</td>\n",
       "      <td>https://www.imdb.com/title/tt0468569</td>\n",
       "      <td>&lt;a href=\"https://www.imdb.com/title/tt0468569\"...</td>\n",
       "    </tr>\n",
       "    <tr>\n",
       "      <th>3</th>\n",
       "      <td>3</td>\n",
       "      <td>tt0167260</td>\n",
       "      <td>The Lord of the Rings: The Return of the King</td>\n",
       "      <td>2003</td>\n",
       "      <td>4</td>\n",
       "      <td>9.0</td>\n",
       "      <td>2102794</td>\n",
       "      <td>201</td>\n",
       "      <td>Peter Jackson</td>\n",
       "      <td>J.R.R. Tolkien, Fran Walsh, Philippa Boyens, P...</td>\n",
       "      <td>Adventure, Drama, Fantasy</td>\n",
       "      <td>https://www.imdb.com/title/tt0167260</td>\n",
       "      <td>&lt;a href=\"https://www.imdb.com/title/tt0167260\"...</td>\n",
       "    </tr>\n",
       "    <tr>\n",
       "      <th>4</th>\n",
       "      <td>4</td>\n",
       "      <td>tt0108052</td>\n",
       "      <td>Schindler's List</td>\n",
       "      <td>1993</td>\n",
       "      <td>5</td>\n",
       "      <td>9.0</td>\n",
       "      <td>1542434</td>\n",
       "      <td>195</td>\n",
       "      <td>Steven Spielberg</td>\n",
       "      <td>Thomas Keneally, Steven Zaillian</td>\n",
       "      <td>Biography, Drama, History</td>\n",
       "      <td>https://www.imdb.com/title/tt0108052</td>\n",
       "      <td>&lt;a href=\"https://www.imdb.com/title/tt0108052\"...</td>\n",
       "    </tr>\n",
       "  </tbody>\n",
       "</table>\n",
       "</div>"
      ],
      "text/plain": [
       "   ID     tconst                                   primaryTitle  startYear  \\\n",
       "0   0  tt0111161                       The Shawshank Redemption       1994   \n",
       "1   1  tt0068646                                  The Godfather       1972   \n",
       "2   2  tt0468569                                The Dark Knight       2008   \n",
       "3   3  tt0167260  The Lord of the Rings: The Return of the King       2003   \n",
       "4   4  tt0108052                               Schindler's List       1993   \n",
       "\n",
       "   rank  averageRating  numVotes  runtimeMinutes             directors  \\\n",
       "0     1            9.3   3090318             142        Frank Darabont   \n",
       "1     2            9.2   2154590             175  Francis Ford Coppola   \n",
       "2     3            9.1   3065674             152     Christopher Nolan   \n",
       "3     4            9.0   2102794             201         Peter Jackson   \n",
       "4     5            9.0   1542434             195      Steven Spielberg   \n",
       "\n",
       "                                             writers  \\\n",
       "0                       Stephen King, Frank Darabont   \n",
       "1                   Mario Puzo, Francis Ford Coppola   \n",
       "2  Jonathan Nolan, Christopher Nolan, David S. Go...   \n",
       "3  J.R.R. Tolkien, Fran Walsh, Philippa Boyens, P...   \n",
       "4                   Thomas Keneally, Steven Zaillian   \n",
       "\n",
       "                      genres                              IMDbLink  \\\n",
       "0                      Drama  https://www.imdb.com/title/tt0111161   \n",
       "1               Crime, Drama  https://www.imdb.com/title/tt0068646   \n",
       "2       Action, Crime, Drama  https://www.imdb.com/title/tt0468569   \n",
       "3  Adventure, Drama, Fantasy  https://www.imdb.com/title/tt0167260   \n",
       "4  Biography, Drama, History  https://www.imdb.com/title/tt0108052   \n",
       "\n",
       "                                     Title_IMDb_Link  \n",
       "0  <a href=\"https://www.imdb.com/title/tt0111161\"...  \n",
       "1  <a href=\"https://www.imdb.com/title/tt0068646\"...  \n",
       "2  <a href=\"https://www.imdb.com/title/tt0468569\"...  \n",
       "3  <a href=\"https://www.imdb.com/title/tt0167260\"...  \n",
       "4  <a href=\"https://www.imdb.com/title/tt0108052\"...  "
      ]
     },
     "execution_count": 2,
     "metadata": {},
     "output_type": "execute_result"
    }
   ],
   "source": [
    "df = pd.read_csv(\"MovieDataSet.csv\")\n",
    "df.head()"
   ]
  },
  {
   "cell_type": "code",
   "execution_count": 3,
   "id": "9eb5e1bd-b125-4fa0-864a-38820d75e513",
   "metadata": {},
   "outputs": [],
   "source": [
    "def clean_tokens(text):\n",
    "    if pd.isna(text):\n",
    "        return \"\"\n",
    "    tokens = [\n",
    "        t.strip().lower().replace(\" \", \"_\")\n",
    "        for t in str(text).split(\",\")\n",
    "        if t and t.lower() != \"nan\"\n",
    "    ]\n",
    "    return \" \".join(tokens)"
   ]
  },
  {
   "cell_type": "code",
   "execution_count": 4,
   "id": "9126c98d-7d7d-4896-b964-f1a4b008eb3b",
   "metadata": {},
   "outputs": [
    {
     "data": {
      "text/html": [
       "<div>\n",
       "<style scoped>\n",
       "    .dataframe tbody tr th:only-of-type {\n",
       "        vertical-align: middle;\n",
       "    }\n",
       "\n",
       "    .dataframe tbody tr th {\n",
       "        vertical-align: top;\n",
       "    }\n",
       "\n",
       "    .dataframe thead th {\n",
       "        text-align: right;\n",
       "    }\n",
       "</style>\n",
       "<table border=\"1\" class=\"dataframe\">\n",
       "  <thead>\n",
       "    <tr style=\"text-align: right;\">\n",
       "      <th></th>\n",
       "      <th>primaryTitle</th>\n",
       "      <th>doc</th>\n",
       "    </tr>\n",
       "  </thead>\n",
       "  <tbody>\n",
       "    <tr>\n",
       "      <th>0</th>\n",
       "      <td>The Shawshank Redemption</td>\n",
       "      <td>frank_darabont stephen_king frank_darabont drama</td>\n",
       "    </tr>\n",
       "    <tr>\n",
       "      <th>1</th>\n",
       "      <td>The Godfather</td>\n",
       "      <td>francis_ford_coppola mario_puzo francis_ford_c...</td>\n",
       "    </tr>\n",
       "    <tr>\n",
       "      <th>2</th>\n",
       "      <td>The Dark Knight</td>\n",
       "      <td>christopher_nolan jonathan_nolan christopher_n...</td>\n",
       "    </tr>\n",
       "    <tr>\n",
       "      <th>3</th>\n",
       "      <td>The Lord of the Rings: The Return of the King</td>\n",
       "      <td>peter_jackson j.r.r._tolkien fran_walsh philip...</td>\n",
       "    </tr>\n",
       "    <tr>\n",
       "      <th>4</th>\n",
       "      <td>Schindler's List</td>\n",
       "      <td>steven_spielberg thomas_keneally steven_zailli...</td>\n",
       "    </tr>\n",
       "  </tbody>\n",
       "</table>\n",
       "</div>"
      ],
      "text/plain": [
       "                                    primaryTitle  \\\n",
       "0                       The Shawshank Redemption   \n",
       "1                                  The Godfather   \n",
       "2                                The Dark Knight   \n",
       "3  The Lord of the Rings: The Return of the King   \n",
       "4                               Schindler's List   \n",
       "\n",
       "                                                 doc  \n",
       "0   frank_darabont stephen_king frank_darabont drama  \n",
       "1  francis_ford_coppola mario_puzo francis_ford_c...  \n",
       "2  christopher_nolan jonathan_nolan christopher_n...  \n",
       "3  peter_jackson j.r.r._tolkien fran_walsh philip...  \n",
       "4  steven_spielberg thomas_keneally steven_zailli...  "
      ]
     },
     "execution_count": 4,
     "metadata": {},
     "output_type": "execute_result"
    }
   ],
   "source": [
    "df[\"doc\"] = (\n",
    "    df[\"directors\"].apply(clean_tokens) + \" \" +\n",
    "    df[\"writers\"].apply(clean_tokens) + \" \" +\n",
    "    df[\"genres\"].apply(clean_tokens)\n",
    ").str.strip()\n",
    "\n",
    "df[[\"primaryTitle\", \"doc\"]].head()"
   ]
  },
  {
   "cell_type": "code",
   "execution_count": 5,
   "id": "c7393b6b-8c28-4379-afdf-ab3441d2060a",
   "metadata": {
    "scrolled": true
   },
   "outputs": [
    {
     "data": {
      "text/plain": [
       "(5000, 8580)"
      ]
     },
     "execution_count": 5,
     "metadata": {},
     "output_type": "execute_result"
    }
   ],
   "source": [
    "tfidf = TfidfVectorizer(token_pattern=r\"[a-z0-9_]+\")\n",
    "X = tfidf.fit_transform(df[\"doc\"])\n",
    "X.shape"
   ]
  },
  {
   "cell_type": "code",
   "execution_count": 6,
   "id": "5e116342-8a25-49a0-8376-87ffb4b2e7b2",
   "metadata": {},
   "outputs": [],
   "source": [
    "import os, joblib\n",
    "os.makedirs(\"models\", exist_ok=True)\n",
    "joblib.dump(tfidf, \"models/tfidf_vectorizer.joblib\")\n",
    "joblib.dump(X, \"models/tfidf_matrix.joblib\")\n",
    "df[[\"ID\",\"primaryTitle\",\"startYear\",\"averageRating\",\"numVotes\",\"tconst\"]].to_csv(\"models/movies_meta.csv\", index=False)"
   ]
  },
  {
   "cell_type": "code",
   "execution_count": 7,
   "id": "91f22637-d679-487d-8415-c9576aca2b82",
   "metadata": {},
   "outputs": [
    {
     "data": {
      "text/plain": [
       "['The Godfather Part II',\n",
       " 'The Godfather Part III',\n",
       " 'The Conversation',\n",
       " 'The Rainmaker',\n",
       " 'Rumble Fish',\n",
       " 'Apocalypse Now',\n",
       " 'Peggy Sue Got Married',\n",
       " 'The Great Gatsby',\n",
       " 'The Outsiders',\n",
       " 'Dracula']"
      ]
     },
     "execution_count": 7,
     "metadata": {},
     "output_type": "execute_result"
    }
   ],
   "source": [
    "from sklearn.metrics.pairwise import cosine_similarity\n",
    "titles = df[\"primaryTitle\"]\n",
    "idx = titles[titles==\"The Godfather\"].index[0]\n",
    "scores = cosine_similarity(X[idx], X).ravel()\n",
    "top = scores.argsort()[::-1][1:11]\n",
    "list(titles.iloc[top])"
   ]
  },
  {
   "cell_type": "code",
   "execution_count": null,
   "id": "ee454cd7-e1e2-4d64-ae69-08a271bab4fc",
   "metadata": {},
   "outputs": [],
   "source": [
    "import os, joblib\n",
    "os.makedirs(\"models\", exist_ok=True)\n",
    "joblib.dump(tfidf, \"models/tfidf_vectorizer.joblib\")\n",
    "joblib.dump(X, \"models/tfidf_matrix.joblib\")\n",
    "df[[\"ID\",\"primaryTitle\",\"startYear\",\"averageRating\",\"numVotes\",\"tconst\"]].to_csv(\"models/movies_meta.csv\", index=False)"
   ]
  },
  {
   "cell_type": "code",
   "execution_count": 8,
   "id": "dc3bc4b8-14e4-4910-b1bd-54fe575cb711",
   "metadata": {},
   "outputs": [
    {
     "data": {
      "text/plain": [
       "5        The Godfather Part II\n",
       "831     The Godfather Part III\n",
       "921           The Conversation\n",
       "2245             The Rainmaker\n",
       "2703               Rumble Fish\n",
       "59              Apocalypse Now\n",
       "4311     Peggy Sue Got Married\n",
       "4020          The Great Gatsby\n",
       "2970             The Outsiders\n",
       "1385                   Dracula\n",
       "Name: primaryTitle, dtype: object"
      ]
     },
     "execution_count": 8,
     "metadata": {},
     "output_type": "execute_result"
    }
   ],
   "source": [
    "from sklearn.metrics.pairwise import cosine_similarity\n",
    "titles = df[\"primaryTitle\"]\n",
    "idx = titles[titles==\"The Godfather\"].index[0]\n",
    "sims = cosine_similarity(X[idx], X).ravel()\n",
    "top = sims.argsort()[::-1][1:11]\n",
    "titles.iloc[top]"
   ]
  },
  {
   "cell_type": "code",
   "execution_count": 9,
   "id": "38471aac-fab9-44fa-b792-c2f722db2c88",
   "metadata": {},
   "outputs": [],
   "source": [
    "import numpy as np, pandas as pd\n",
    "k=20; rows=[]\n",
    "for i in range(X.shape[0]):\n",
    "    s = cosine_similarity(X[i], X).ravel()\n",
    "    top = np.argpartition(-s, range(1,k+1))[1:k+1]\n",
    "    top = top[np.argsort(-s[top])]\n",
    "    for rank,j in enumerate(top,1):\n",
    "        rows.append((i,j,float(s[j]),rank))\n",
    "pd.DataFrame(rows, columns=[\"movie_idx\",\"neighbor_idx\",\"score\",\"rank\"]).to_csv(\"models/neighbors_top20.csv\", index=False)\n"
   ]
  },
  {
   "cell_type": "code",
   "execution_count": null,
   "id": "dec23bef-96b0-4f13-83b4-ac2ee0e6f8a6",
   "metadata": {},
   "outputs": [],
   "source": []
  }
 ],
 "metadata": {
  "kernelspec": {
   "display_name": "Python 3 (ipykernel)",
   "language": "python",
   "name": "python3"
  },
  "language_info": {
   "codemirror_mode": {
    "name": "ipython",
    "version": 3
   },
   "file_extension": ".py",
   "mimetype": "text/x-python",
   "name": "python",
   "nbconvert_exporter": "python",
   "pygments_lexer": "ipython3",
   "version": "3.9.6"
  }
 },
 "nbformat": 4,
 "nbformat_minor": 5
}
